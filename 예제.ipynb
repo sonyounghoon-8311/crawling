{
 "cells": [
  {
   "cell_type": "code",
   "execution_count": 70,
   "metadata": {},
   "outputs": [],
   "source": [
    "import requests\n",
    "from bs4 import BeautifulSoup as bs\n",
    "from time import sleep"
   ]
  },
  {
   "cell_type": "code",
   "execution_count": 71,
   "metadata": {},
   "outputs": [],
   "source": [
    "import urllib3\n",
    "urllib3.disable_warnings()"
   ]
  },
  {
   "cell_type": "code",
   "execution_count": 72,
   "metadata": {},
   "outputs": [],
   "source": [
    "res=requests.get('http://media.daum.net/digital/', verify=False)"
   ]
  },
  {
   "cell_type": "code",
   "execution_count": 73,
   "metadata": {},
   "outputs": [],
   "source": [
    "soup=bs(res.content,'html.parser')"
   ]
  },
  {
   "cell_type": "code",
   "execution_count": 74,
   "metadata": {},
   "outputs": [],
   "source": [
    "text_data =soup.find_all('strong', class_='tit_thumb')\n"
   ]
  },
  {
   "cell_type": "code",
   "execution_count": 75,
   "metadata": {},
   "outputs": [
    {
     "name": "stdout",
     "output_type": "stream",
     "text": [
      "[<strong class=\"tit_thumb\">\n",
      "<a class=\"link_txt\" data-tiara-custom=\"contentUniqueKey=hamny-20200904114640716\" data-tiara-id=\"20200904114640716\" data-tiara-layer=\"article_main\" data-tiara-ordnum=\"1\" data-tiara-type=\"harmony\" href=\"https://news.v.daum.net/v/20200904114640716\">이진수 대표 \"카카오페이지 2022년까지 미·중·동남아로 확장\"</a>\n",
      "</strong>, <strong class=\"tit_thumb\">\n",
      "<a class=\"link_txt\" data-tiara-custom=\"contentUniqueKey=hamny-20200904104919511\" data-tiara-id=\"20200904104919511\" data-tiara-layer=\"article_main\" data-tiara-ordnum=\"1\" data-tiara-type=\"harmony\" href=\"https://news.v.daum.net/v/20200904104919511\">엔씨소프트 첫 콘솔게임 '퓨저'..11월 북미·유럽 출격</a>\n",
      "</strong>, <strong class=\"tit_thumb\">\n",
      "<a class=\"link_txt\" data-tiara-custom=\"contentUniqueKey=hamny-20200904110941385\" data-tiara-id=\"20200904110941385\" data-tiara-layer=\"article_main\" data-tiara-ordnum=\"1\" data-tiara-type=\"harmony\" href=\"https://news.v.daum.net/v/20200904110941385\">내년 정부 R&amp;D 예산 27조원..\"미래세대 위한 '게임 체인저' 전략\"</a>\n",
      "</strong>, <strong class=\"tit_thumb\">\n",
      "<a class=\"link_txt\" data-tiara-custom=\"contentUniqueKey=hamny-20200904091515456\" data-tiara-id=\"20200904091515456\" data-tiara-layer=\"article_main\" data-tiara-ordnum=\"1\" data-tiara-type=\"harmony\" href=\"https://news.v.daum.net/v/20200904091515456\">의사파업 끝날듯.. 정부⋅의협 협상 타결 \"일방적 정책 강행 않기로\"</a>\n",
      "</strong>, <strong class=\"tit_thumb\">\n",
      "<a class=\"link_txt\" data-tiara-custom=\"contentUniqueKey=hamny-20200904144609319\" data-tiara-id=\"20200904144609319\" data-tiara-layer=\"article_main\" data-tiara-ordnum=\"1\" data-tiara-type=\"harmony\" href=\"https://news.v.daum.net/v/20200904144609319\">복지부⋅의협도 합의문 서명.. 전공의들 반발로 의사파업 중단은 미지수</a>\n",
      "</strong>, <strong class=\"tit_thumb\">흥미로운 과학 뉴스</strong>, <strong class=\"tit_thumb\">페이스북 광고 보이콧</strong>, <strong class=\"tit_thumb\">오늘의 게임 뉴스</strong>, <strong class=\"tit_thumb\"><a class=\"link_txt\" data-tiara-id=\"1780915\" data-tiara-layer=\"article\" data-tiara-ordnum=\"1\" data-tiara-type=\"series\" href=\"https://v.daum.net/v/20200904122656625\">미디어토닉 '폴가이즈', 게임으로 즐기는 왁자지껄 운동회</a></strong>, <strong class=\"tit_thumb\"><a class=\"link_txt\" data-tiara-id=\"210039\" data-tiara-layer=\"article\" data-tiara-ordnum=\"2\" data-tiara-type=\"series\" href=\"https://v.daum.net/v/20200904104101183\">'괴물 상어' 메갈로돈, 실제 길이는 16m..머리만 4.6m</a></strong>, <strong class=\"tit_thumb\"><a class=\"link_txt\" data-tiara-id=\"2103\" data-tiara-layer=\"article\" data-tiara-ordnum=\"3\" data-tiara-type=\"series\" href=\"https://v.daum.net/v/20200904101602110\">22년 만에 내장 그래픽 성능 1위 차지한 인텔</a></strong>, <strong class=\"tit_thumb\"><a class=\"link_txt\" data-tiara-id=\"1541817\" data-tiara-layer=\"article\" data-tiara-ordnum=\"4\" data-tiara-type=\"series\" href=\"https://v.daum.net/v/20200903204851573\">'성장중독' 득세에 밀려 '국민 데이터 보호' 공익 노력 소홀하면 안 돼</a></strong>, <strong class=\"tit_thumb\"><a class=\"link_txt\" data-tiara-id=\"1419\" data-tiara-layer=\"article\" data-tiara-ordnum=\"5\" data-tiara-type=\"series\" href=\"https://v.daum.net/v/20200903174802653\">'도전보다 안정을 택하다' 갤럭시 노트20 울트라 - ②</a></strong>, <strong class=\"tit_thumb\"><a class=\"link_txt\" data-tiara-custom=\"contentUniqueKey=hamny-20200904080140410\" data-tiara-id=\"20200904080140410\" data-tiara-layer=\"article\" data-tiara-ordnum=\"1\" data-tiara-type=\"harmony\" href=\"https://v.daum.net/v/20200904080140410\">119만 원 '갤노트20'이 6만5천 원 되는 '마법'의 비밀, 풀어봤습니다</a></strong>, <strong class=\"tit_thumb\"><a class=\"link_txt\" data-tiara-custom=\"contentUniqueKey=hamny-20200903172203532\" data-tiara-id=\"20200903172203532\" data-tiara-layer=\"article\" data-tiara-ordnum=\"2\" data-tiara-type=\"harmony\" href=\"https://v.daum.net/v/20200903172203532\">\"밸브형 마스크, 숨쉬기 편해도 감염된 비말 뚫고 나갈 가능성\"</a></strong>, <strong class=\"tit_thumb\"><a class=\"link_txt\" data-tiara-custom=\"contentUniqueKey=hamny-20200904111524609\" data-tiara-id=\"20200904111524609\" data-tiara-layer=\"article\" data-tiara-ordnum=\"3\" data-tiara-type=\"harmony\" href=\"https://v.daum.net/v/20200904111524609\">'출근자 많으면 확진자 늘어난다' 코로나19 방역에 도움 주는 데이터과학</a></strong>, <strong class=\"tit_thumb\"><a class=\"link_txt\" data-tiara-custom=\"contentUniqueKey=hamny-20200904144812371\" data-tiara-id=\"20200904144812371\" data-tiara-layer=\"article\" data-tiara-ordnum=\"4\" data-tiara-type=\"harmony\" href=\"https://v.daum.net/v/20200904144812371\">\"대웅제약, 대상포진백신 스카이조스터 공동판매 때도 계약사항 어겨\"</a></strong>, <strong class=\"tit_thumb\"><a class=\"link_txt\" data-tiara-custom=\"contentUniqueKey=hamny-20200904104919511\" data-tiara-id=\"20200904104919511\" data-tiara-layer=\"article\" data-tiara-ordnum=\"1\" data-tiara-type=\"harmony\" href=\"https://v.daum.net/v/20200904104919511\">엔씨소프트 첫 콘솔게임 '퓨저'..11월 북미·유럽 출격</a></strong>, <strong class=\"tit_thumb\"><a class=\"link_txt\" data-tiara-custom=\"contentUniqueKey=hamny-20200904100048408\" data-tiara-id=\"20200904100048408\" data-tiara-layer=\"article\" data-tiara-ordnum=\"2\" data-tiara-type=\"harmony\" href=\"https://v.daum.net/v/20200904100048408\">스페이스X 스타링크의 위성 인터넷 속도는?</a></strong>, <strong class=\"tit_thumb\"><a class=\"link_txt\" data-tiara-custom=\"contentUniqueKey=hamny-20200904104101183\" data-tiara-id=\"20200904104101183\" data-tiara-layer=\"article\" data-tiara-ordnum=\"3\" data-tiara-type=\"harmony\" href=\"https://v.daum.net/v/20200904104101183\">'괴물 상어' 메갈로돈, 실제 길이는 16m..머리만 4.6m</a></strong>, <strong class=\"tit_thumb\"><a class=\"link_txt\" data-tiara-custom=\"contentUniqueKey=hamny-20200904111531618\" data-tiara-id=\"20200904111531618\" data-tiara-layer=\"article\" data-tiara-ordnum=\"4\" data-tiara-type=\"harmony\" href=\"https://v.daum.net/v/20200904111531618\">'부력 뒤집혔다' 수면 아래로도 떠다니는 배</a></strong>, <strong class=\"tit_thumb\">\n",
      "<a class=\"link_txt\" data-tiara-custom=\"contentUniqueKey=hamny-20200904080140410\" data-tiara-id=\"20200904080140410\" data-tiara-layer=\"article\" data-tiara-ordnum=\"1\" data-tiara-type=\"harmony\" href=\"http://v.media.daum.net/v/20200904080140410\">119만 원 '갤노트20'이 6만5천 원 되는 '마법'의 비밀, 풀어봤습니다</a>\n",
      "</strong>, <strong class=\"tit_thumb\">\n",
      "<a class=\"link_txt\" data-tiara-custom=\"contentUniqueKey=hamny-20200904070022496\" data-tiara-id=\"20200904070022496\" data-tiara-layer=\"article\" data-tiara-ordnum=\"2\" data-tiara-type=\"harmony\" href=\"http://v.media.daum.net/v/20200904070022496\">LG 전략폰 이름 '윙'으로 확정..100만원대 중반 가격 예상</a>\n",
      "</strong>, <strong class=\"tit_thumb\">\n",
      "<a class=\"link_txt\" data-tiara-custom=\"contentUniqueKey=hamny-20200904060339898\" data-tiara-id=\"20200904060339898\" data-tiara-layer=\"article\" data-tiara-ordnum=\"3\" data-tiara-type=\"harmony\" href=\"http://v.media.daum.net/v/20200904060339898\">가을 출시 아이폰12, 20배 빠른 5G 지원하는데.. 한국 기지국 설치는 부진</a>\n",
      "</strong>, <strong class=\"tit_thumb\">\n",
      "<a class=\"link_txt\" data-tiara-custom=\"contentUniqueKey=hamny-20200904111531618\" data-tiara-id=\"20200904111531618\" data-tiara-layer=\"article\" data-tiara-ordnum=\"4\" data-tiara-type=\"harmony\" href=\"http://v.media.daum.net/v/20200904111531618\">'부력 뒤집혔다' 수면 아래로도 떠다니는 배</a>\n",
      "</strong>, <strong class=\"tit_thumb\"><a class=\"link_txt\" href=\"http://pubg.daum.net?utm_source=daumgame&amp;utm_medium=display&amp;utm_campaign=201905-15_pubg_regular_playtime_3&amp;utm_content=it_news\">최후의 1인을 가린다!<br/>카카오 배틀그라운드</a></strong>, <strong class=\"tit_thumb\"><a class=\"link_txt\" href=\"https://pathofexile.game.daum.net?utm_source=daumgame&amp;utm_medium=display&amp;utm_campaign=201906-08_poe_open&amp;utm_content=it_news\">대체불가 핵앤슬래시! <br/> 패스 오브 엑자일</a></strong>]\n"
     ]
    }
   ],
   "source": [
    "print(text_data)"
   ]
  },
  {
   "cell_type": "code",
   "execution_count": 76,
   "metadata": {},
   "outputs": [
    {
     "name": "stdout",
     "output_type": "stream",
     "text": [
      "\n",
      "이진수 대표 \"카카오페이지 2022년까지 미·중·동남아로 확장\"\n",
      "\n",
      "\n",
      "엔씨소프트 첫 콘솔게임 '퓨저'..11월 북미·유럽 출격\n",
      "\n",
      "\n",
      "내년 정부 R&D 예산 27조원..\"미래세대 위한 '게임 체인저' 전략\"\n",
      "\n",
      "\n",
      "의사파업 끝날듯.. 정부⋅의협 협상 타결 \"일방적 정책 강행 않기로\"\n",
      "\n",
      "\n",
      "복지부⋅의협도 합의문 서명.. 전공의들 반발로 의사파업 중단은 미지수\n",
      "\n",
      "흥미로운 과학 뉴스\n",
      "페이스북 광고 보이콧\n",
      "오늘의 게임 뉴스\n",
      "미디어토닉 '폴가이즈', 게임으로 즐기는 왁자지껄 운동회\n",
      "'괴물 상어' 메갈로돈, 실제 길이는 16m..머리만 4.6m\n",
      "22년 만에 내장 그래픽 성능 1위 차지한 인텔\n",
      "'성장중독' 득세에 밀려 '국민 데이터 보호' 공익 노력 소홀하면 안 돼\n",
      "'도전보다 안정을 택하다' 갤럭시 노트20 울트라 - ②\n",
      "119만 원 '갤노트20'이 6만5천 원 되는 '마법'의 비밀, 풀어봤습니다\n",
      "\"밸브형 마스크, 숨쉬기 편해도 감염된 비말 뚫고 나갈 가능성\"\n",
      "'출근자 많으면 확진자 늘어난다' 코로나19 방역에 도움 주는 데이터과학\n",
      "\"대웅제약, 대상포진백신 스카이조스터 공동판매 때도 계약사항 어겨\"\n",
      "엔씨소프트 첫 콘솔게임 '퓨저'..11월 북미·유럽 출격\n",
      "스페이스X 스타링크의 위성 인터넷 속도는?\n",
      "'괴물 상어' 메갈로돈, 실제 길이는 16m..머리만 4.6m\n",
      "'부력 뒤집혔다' 수면 아래로도 떠다니는 배\n",
      "\n",
      "119만 원 '갤노트20'이 6만5천 원 되는 '마법'의 비밀, 풀어봤습니다\n",
      "\n",
      "\n",
      "LG 전략폰 이름 '윙'으로 확정..100만원대 중반 가격 예상\n",
      "\n",
      "\n",
      "가을 출시 아이폰12, 20배 빠른 5G 지원하는데.. 한국 기지국 설치는 부진\n",
      "\n",
      "\n",
      "'부력 뒤집혔다' 수면 아래로도 떠다니는 배\n",
      "\n",
      "최후의 1인을 가린다!카카오 배틀그라운드\n",
      "대체불가 핵앤슬래시!  패스 오브 엑자일\n"
     ]
    }
   ],
   "source": [
    "for i in range(len(text_data)):\n",
    "    print(text_data[i].get_text())"
   ]
  },
  {
   "cell_type": "code",
   "execution_count": null,
   "metadata": {},
   "outputs": [],
   "source": []
  },
  {
   "cell_type": "code",
   "execution_count": null,
   "metadata": {},
   "outputs": [],
   "source": []
  },
  {
   "cell_type": "code",
   "execution_count": null,
   "metadata": {},
   "outputs": [],
   "source": []
  }
 ],
 "metadata": {
  "kernelspec": {
   "display_name": "Python 3",
   "language": "python",
   "name": "python3"
  },
  "language_info": {
   "codemirror_mode": {
    "name": "ipython",
    "version": 3
   },
   "file_extension": ".py",
   "mimetype": "text/x-python",
   "name": "python",
   "nbconvert_exporter": "python",
   "pygments_lexer": "ipython3",
   "version": "3.8.3"
  }
 },
 "nbformat": 4,
 "nbformat_minor": 4
}
